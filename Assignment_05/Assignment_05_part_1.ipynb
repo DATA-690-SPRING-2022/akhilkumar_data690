{
  "nbformat": 4,
  "nbformat_minor": 0,
  "metadata": {
    "colab": {
      "name": "Copy of Copy of Assignment_05_part_1.ipynb",
      "provenance": [],
      "authorship_tag": "ABX9TyOsXCVbH22Nvy25IcXC1zgL",
      "include_colab_link": true
    },
    "kernelspec": {
      "name": "python3",
      "display_name": "Python 3"
    },
    "language_info": {
      "name": "python"
    }
  },
  "cells": [
    {
      "cell_type": "markdown",
      "metadata": {
        "id": "view-in-github",
        "colab_type": "text"
      },
      "source": [
        "<a href=\"https://colab.research.google.com/github/akhilkumar-kondamidi/akhilkumar_data690/blob/main/Assignment_05/Assignment_05_part_1.ipynb\" target=\"_parent\"><img src=\"https://colab.research.google.com/assets/colab-badge.svg\" alt=\"Open In Colab\"/></a>"
      ]
    },
    {
      "cell_type": "code",
      "execution_count": null,
      "metadata": {
        "id": "NXMy-hN0qztK"
      },
      "outputs": [],
      "source": [
        ""
      ]
    },
    {
      "cell_type": "markdown",
      "source": [
        "#Assignment_05_part_1\n",
        "- Name:Akhil Kumar Kondamidi\n",
        "- Date:3/5/2021"
      ],
      "metadata": {
        "id": "-U0HATRCq1h1"
      }
    },
    {
      "cell_type": "markdown",
      "source": [
        "## What is Data Analysis\n",
        "- a process of inspecting, cleansing, transforming and modeling data with the goal of discovering useful information**, **informing conclusion, and supporting decision-making."
      ],
      "metadata": {
        "id": "J8Ut6KYQq7OX"
      }
    },
    {
      "cell_type": "markdown",
      "source": [
        "## Data Analysis Tools\n",
        "- Auto-Managed Closed Tools: Qlik, Tableau, Looker, Zoho Analytics\n",
        "- Programming Languages: Python, R, Julia"
      ],
      "metadata": {
        "id": "Pktifg5RsGpU"
      }
    },
    {
      "cell_type": "markdown",
      "source": [
        "## Pros and Cons of Auto Managed closed Tools:\n",
        "- pros: Easy to learn\n",
        "- cons: Closed source, expensive, limited\n",
        "\n",
        "## Upsides and Downsides of Programming Languages:\n",
        "- upsides: Open source, free (or very cheap), extremely powerful\n",
        "- Downsides: Steep learning curve \n"
      ],
      "metadata": {
        "id": "uN1xuGdjsw55"
      }
    },
    {
      "cell_type": "markdown",
      "source": [
        "## Why Python for Data Analysis over R or Julia?\n",
        "- Very simple and intuitive to learn\n",
        "- \"Correct\" language\n",
        "- Powerful libraries that are useful for more than just data analysis\n",
        "- Free and open source\n",
        "- Amazing community,docs and conferences"
      ],
      "metadata": {
        "id": "GT86AK8jt3Sg"
      }
    },
    {
      "cell_type": "markdown",
      "source": [
        "##  How do you know when to utilize R?\n",
        "- When R Studio is needed\n",
        "- When dealing with advanced statistical methods\n",
        "- When extreme performance needed"
      ],
      "metadata": {
        "id": "JrdweaQGtpsz"
      }
    },
    {
      "cell_type": "markdown",
      "source": [
        "## Five Step Data Analysis Process\n",
        "\n",
        "  - Data Extraction\n",
        "  - Data Cleaning\n",
        "  - Data Wrangling\n",
        "  - Analysis\n",
        "  - Action"
      ],
      "metadata": {
        "id": "_uEZYVNfvKJA"
      }
    },
    {
      "cell_type": "markdown",
      "source": [
        "## Data Analysis vs Data Science\n",
        "\n",
        "- Data scientists are more programming/math-oriented, with the ability to use machine learning and ETL techniques to their work.\n",
        "- Data analysts are more communicative and provide more detailed reports that use data to create stories."
      ],
      "metadata": {
        "id": "D-wUWlWtvuNK"
      }
    },
    {
      "cell_type": "markdown",
      "source": [
        "## Python & PyData Ecosystem\n",
        "\n",
        "Libraries used in Ecosystem:\n",
        "- pandas: foundation library for data analysis\n",
        "- matplotlib: foundation library for visualization\n",
        "- numpy: numeric library/foundation for calculation\n",
        "- seaborn: Matplotlib-based  statistical visualization tool\n",
        "- statsmodels: library with many advanced statistical functions\n",
        "- scipy: advanced scientific computing with optimization, linear algebra, image processing, and other functions\n",
        "- scikit-learn:Python's most popular machine learning library (not deep learning)"
      ],
      "metadata": {
        "id": "hECRkHsswOQM"
      }
    },
    {
      "cell_type": "markdown",
      "source": [
        "## How Python Data Analysts Think\n",
        "\n",
        "- Excel, Tableau, and other programs rely on visual references on a regular basis (work well for small amount of data)\n",
        "- Despite the lack of a consistent visual reference, Python is capable of processing enormous amounts of data and transferring data much more easily using cloud-based solutions."
      ],
      "metadata": {
        "id": "ItKVoWaexabV"
      }
    },
    {
      "cell_type": "markdown",
      "source": [
        "## Major Reasoning for Python Use\n",
        "Professionals who know Python or SQL are paid 20% more than those who don't."
      ],
      "metadata": {
        "id": "wSAaD_S_1VfP"
      }
    }
  ]
}