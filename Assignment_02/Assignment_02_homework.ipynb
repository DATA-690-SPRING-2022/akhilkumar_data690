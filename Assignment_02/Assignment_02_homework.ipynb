{
  "nbformat": 4,
  "nbformat_minor": 0,
  "metadata": {
    "colab": {
      "name": "Assignment_02_homework.ipynb",
      "provenance": [],
      "collapsed_sections": [],
      "authorship_tag": "ABX9TyO4vlgMBrmIR2B1dVqSOMIm",
      "include_colab_link": true
    },
    "kernelspec": {
      "name": "python3",
      "display_name": "Python 3"
    },
    "language_info": {
      "name": "python"
    }
  },
  "cells": [
    {
      "cell_type": "markdown",
      "metadata": {
        "id": "view-in-github",
        "colab_type": "text"
      },
      "source": [
        "<a href=\"https://colab.research.google.com/github/akhilkumar-kondamidi/akhilkumar_data690/blob/main/Assignment_02/Assignment_02_homework.ipynb\" target=\"_parent\"><img src=\"https://colab.research.google.com/assets/colab-badge.svg\" alt=\"Open In Colab\"/></a>"
      ]
    },
    {
      "cell_type": "markdown",
      "source": [
        "Assignment_02"
      ],
      "metadata": {
        "id": "DYcTAKOwewPF"
      }
    },
    {
      "cell_type": "markdown",
      "source": [
        "# 1.Entering 10 integers and displaying in list"
      ],
      "metadata": {
        "id": "fnGjh86ydna8"
      }
    },
    {
      "cell_type": "code",
      "execution_count": 1,
      "metadata": {
        "colab": {
          "base_uri": "https://localhost:8080/"
        },
        "id": "L1Ec5bIVCdXY",
        "outputId": "be350788-b577-4afa-cae5-8a26ec1fcb4f"
      },
      "outputs": [
        {
          "output_type": "stream",
          "name": "stdout",
          "text": [
            "Enter an integer: 7\n",
            "The integer which is inserted is:  7\n",
            "Enter an integer: 5\n",
            "The integer which is inserted is:  5\n",
            "Enter an integer: akhil\n",
            "Only integer is allowed.Please try again\n",
            "Enter an integer: -2\n",
            "The integer which is inserted is:  -2\n",
            "Enter an integer: -4\n",
            "The integer which is inserted is:  -4\n",
            "Enter an integer: cj05211\n",
            "Only integer is allowed.Please try again\n",
            "Enter an integer: 9\n",
            "The integer which is inserted is:  9\n",
            "Enter an integer: -1\n",
            "The integer which is inserted is:  -1\n",
            "Enter an integer: 12\n",
            "The integer which is inserted is:  12\n",
            "Enter an integer: -3\n",
            "The integer which is inserted is:  -3\n",
            "Enter an integer: 14\n",
            "The integer which is inserted is:  14\n",
            "Enter an integer: -6\n",
            "The integer which is inserted is:  -6\n",
            "the list of integers are [7, 5, -2, -4, 9, -1, 12, -3, 14, -6]\n"
          ]
        }
      ],
      "source": [
        "#Creating empty list to store all the integers\n",
        "numbers = []\n",
        "while len(numbers)<10:\n",
        "  a= input (\"Enter an integer: \")\n",
        "  try:\n",
        "    num = int(a)\n",
        "    numbers.append(num)\n",
        "    print(\"The integer which is inserted is: \",num)\n",
        "  except:\n",
        "    print(\"Only integer is allowed.Please try again\")\n",
        "#printing all the integers to which are entered in the list\n",
        "print(\"the list of integers are\",numbers)"
      ]
    },
    {
      "cell_type": "markdown",
      "source": [
        "# 2.Calculating Minimum "
      ],
      "metadata": {
        "id": "Kq4eTxtYGQSm"
      }
    },
    {
      "cell_type": "code",
      "source": [
        "#making the first integer in the list as minimum to find out minimum value \n",
        "minimum=numbers[0]\n",
        "for i in range(len(numbers)):\n",
        "   if numbers[i]<minimum:\n",
        "      minimum=numbers[i]\n",
        "print(\"The Minimum number among integers is:\",minimum)"
      ],
      "metadata": {
        "colab": {
          "base_uri": "https://localhost:8080/"
        },
        "id": "7JPeQilsGbg9",
        "outputId": "c374bb4d-a43c-45d7-d843-67b199f3c573"
      },
      "execution_count": 2,
      "outputs": [
        {
          "output_type": "stream",
          "name": "stdout",
          "text": [
            "The Minimum number among integers is: -6\n"
          ]
        }
      ]
    },
    {
      "cell_type": "markdown",
      "source": [
        "# 3.Calculating Maximum "
      ],
      "metadata": {
        "id": "Blx3_GMJKrp1"
      }
    },
    {
      "cell_type": "code",
      "source": [
        "#making the first integer in the list as maximum to find out minimum value \n",
        "maximum=numbers[0]\n",
        "for i in range(len(numbers)):\n",
        "   if numbers[i]>maximum:\n",
        "      maximum=numbers[i]\n",
        "print(\"The Maximum number among integers is:\",maximum)"
      ],
      "metadata": {
        "colab": {
          "base_uri": "https://localhost:8080/"
        },
        "id": "-MpPIWMOKv5F",
        "outputId": "6e26836b-0fb4-4734-a654-6393c7c11b99"
      },
      "execution_count": 3,
      "outputs": [
        {
          "output_type": "stream",
          "name": "stdout",
          "text": [
            "The Maximum number among integers is: 14\n"
          ]
        }
      ]
    },
    {
      "cell_type": "markdown",
      "source": [
        "# 4.Calculating Range"
      ],
      "metadata": {
        "id": "YTXXUv7hMZP0"
      }
    },
    {
      "cell_type": "code",
      "source": [
        "#Range is difference between maximum and minimum values\n",
        "Range=maximum-minimum\n",
        "print(\"the range of above integers varying from\", maximum, \"to\", minimum, \"is\",Range)"
      ],
      "metadata": {
        "colab": {
          "base_uri": "https://localhost:8080/"
        },
        "id": "TEVZhFBpM7Z8",
        "outputId": "d5258d1b-962a-4357-98d4-9673ec34caa7"
      },
      "execution_count": 4,
      "outputs": [
        {
          "output_type": "stream",
          "name": "stdout",
          "text": [
            "the range of above integers varying from 14 to -6 is 20\n"
          ]
        }
      ]
    },
    {
      "cell_type": "markdown",
      "source": [
        "# 5.Calculating Mean"
      ],
      "metadata": {
        "id": "skOJvgYSPzbF"
      }
    },
    {
      "cell_type": "code",
      "source": [
        "#mean is sum of the values divided by count\n",
        "sum=0\n",
        "\n",
        "for i in numbers:\n",
        "  sum+=i  \n",
        "\n",
        "#print(\"sum of the integers is \",sum)\n",
        "mean=sum/len(numbers)\n",
        "print(\"mean of integers in the list is \",mean)"
      ],
      "metadata": {
        "colab": {
          "base_uri": "https://localhost:8080/"
        },
        "id": "FcoKLumwP4ft",
        "outputId": "fed01e5a-c6a5-4f2f-bee0-c5b63ef6ea38"
      },
      "execution_count": 5,
      "outputs": [
        {
          "output_type": "stream",
          "name": "stdout",
          "text": [
            "mean of integers in the list is  3.1\n"
          ]
        }
      ]
    },
    {
      "cell_type": "markdown",
      "source": [
        "# 6.Calculating Variance"
      ],
      "metadata": {
        "id": "XGqgvrKdX9uV"
      }
    },
    {
      "cell_type": "code",
      "source": [
        "#varianceis the average squared difeernce from mean\n",
        "sum_of_square_diff = 0\n",
        "for i in numbers:\n",
        "  sum_of_square_diff = (i-mean)**2\n",
        "\n",
        "print(\"Sum of square differences is\",sum_of_square_diff)"
      ],
      "metadata": {
        "colab": {
          "base_uri": "https://localhost:8080/"
        },
        "id": "DW7xWXRIX-tJ",
        "outputId": "93b4edcf-cc42-450f-c296-7245677ab609"
      },
      "execution_count": 6,
      "outputs": [
        {
          "output_type": "stream",
          "name": "stdout",
          "text": [
            "Sum of square differences is 82.80999999999999\n"
          ]
        }
      ]
    },
    {
      "cell_type": "code",
      "source": [
        "variance= sum_of_square_diff/len(numbers)\n",
        "print(\"Variance of the integers in the list is \",variance)"
      ],
      "metadata": {
        "colab": {
          "base_uri": "https://localhost:8080/"
        },
        "id": "aXubZTFBc5oO",
        "outputId": "aa82e5e9-a259-4607-acba-2e1ef2a85f83"
      },
      "execution_count": 7,
      "outputs": [
        {
          "output_type": "stream",
          "name": "stdout",
          "text": [
            "Variance of the integers in the list is  8.280999999999999\n"
          ]
        }
      ]
    },
    {
      "cell_type": "markdown",
      "source": [
        "# 7.Calculating standard deviation"
      ],
      "metadata": {
        "id": "pNO-VcVwdICS"
      }
    },
    {
      "cell_type": "code",
      "source": [
        "Standard_deviation= variance**0.5\n",
        "print(\"Standard deviation of the integers in the list is \",Standard_deviation)"
      ],
      "metadata": {
        "colab": {
          "base_uri": "https://localhost:8080/"
        },
        "id": "5PN4oo2ZdNv8",
        "outputId": "91b61177-ba15-4969-e8f1-7ba259878355"
      },
      "execution_count": 8,
      "outputs": [
        {
          "output_type": "stream",
          "name": "stdout",
          "text": [
            "Standard deviation of the integers in the list is  2.877672670753225\n"
          ]
        }
      ]
    }
  ]
}