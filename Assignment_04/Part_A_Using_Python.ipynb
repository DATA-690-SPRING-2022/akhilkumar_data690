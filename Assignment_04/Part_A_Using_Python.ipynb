{
  "nbformat": 4,
  "nbformat_minor": 0,
  "metadata": {
    "colab": {
      "name": "Part A - Using Python.ipynb",
      "provenance": [],
      "collapsed_sections": [],
      "authorship_tag": "ABX9TyO+U0TEK32EOXGvz0cEaw54",
      "include_colab_link": true
    },
    "kernelspec": {
      "name": "python3",
      "display_name": "Python 3"
    },
    "language_info": {
      "name": "python"
    }
  },
  "cells": [
    {
      "cell_type": "markdown",
      "metadata": {
        "id": "view-in-github",
        "colab_type": "text"
      },
      "source": [
        "<a href=\"https://colab.research.google.com/github/akhilkumar-kondamidi/akhilkumar_data690/blob/main/Assignment_04/Part_A_Using_Python.ipynb\" target=\"_parent\"><img src=\"https://colab.research.google.com/assets/colab-badge.svg\" alt=\"Open In Colab\"/></a>"
      ]
    },
    {
      "cell_type": "markdown",
      "source": [
        "#Assignment - 04\n"
      ],
      "metadata": {
        "id": "ADhd9tBDGwo7"
      }
    },
    {
      "cell_type": "markdown",
      "source": [
        "## Part A - Using Python"
      ],
      "metadata": {
        "id": "eIiKwhmkHC2q"
      }
    },
    {
      "cell_type": "markdown",
      "source": [
        "### 1. Write code to open the text file census_costs.txt and read all lines into a list named \"line_list\". Print line_list."
      ],
      "metadata": {
        "id": "S80OaQJyHm9T"
      }
    },
    {
      "cell_type": "code",
      "source": [
        "with open(\"/content/census_costs.txt\", \"r\") as f:\n",
        "    line_list = f.readlines()\n",
        "\n",
        "print(line_list)"
      ],
      "metadata": {
        "colab": {
          "base_uri": "https://localhost:8080/"
        },
        "id": "uyOpvDwoHFTc",
        "outputId": "91631e5c-4dee-4cb3-a76d-ea1a7d55e95e"
      },
      "execution_count": 1,
      "outputs": [
        {
          "output_type": "stream",
          "name": "stdout",
          "text": [
            "['Source: https://www.genealogybranches.com/censuscosts.html\\n', 'Census Year\\tTotal Population\\tCensus Cost\\tAverage Cost Per Person\\n', '1790\\t3,929,214\\t$44,377\\t1.13 cents\\n', '1800\\t5,308,483\\t$66,109\\t1.24 cents\\n', '1810\\t7,239,881\\t$178,445\\t2.46 cents\\n', '1820\\t9,633,822\\t$208,526\\t2.16 cents\\n', '1830\\t12,866,020\\t$378,545\\t2.94 cents\\n', '1840\\t17,069,458\\t$833,371\\t4.88 cents\\n', '1850\\t23,191,876\\t$1,423,351\\t6.14 cents\\n', '1860\\t31,443,321\\t$1,969,377\\t6.26 cents\\n', '1870\\t38,558,371\\t$3,421,198\\t8.87 cents\\n', '1880\\t50,155,783\\t$5,790,678\\t11.54 cents\\n', '1890\\t62,979,766\\t$11,547,127\\t18.33 cents\\n', '1900\\t76,303,387\\t$11,854,000\\t15.54 cents\\n', '1910\\t91,972,266\\t$15,968,000\\t17.07 cents\\n', '1920\\t105,710,620\\t$25,117,000\\t23.76 cents\\n', '1930\\t122,775,046\\t$40,156,000\\t32.71 cents\\n', '1940\\t131,669,275\\t$67,527,000\\t51.29 cents\\n', '1950\\t151,325,798\\t$91,462,000\\t60.44 cents\\n', '1960\\t179,323,175\\t$127,934,000\\t71.34 cents\\n', '1970\\t203,302,031\\t$247,653,000\\t$1.22\\n', '1980\\t226,542,199\\t$1,078,488,000\\t$4.76\\n', '1990\\t248,718,301\\t$2,492,830,000\\t$10.02\\n', '2000\\t281,421,906\\t$4.5 Billion\\t$15.99\\n', '2010*\\t308,745,538\\t$13 Billion\\t$42.11\\n']\n"
          ]
        }
      ]
    },
    {
      "cell_type": "markdown",
      "source": [
        "### 2. Extract the first two lines and put them in a different list named \"top2_list\". You will need to use them later. Print the top2_list."
      ],
      "metadata": {
        "id": "eFrqdMwWLy1o"
      }
    },
    {
      "cell_type": "code",
      "source": [
        "top2_list = line_list[:2]\n",
        "top2_list"
      ],
      "metadata": {
        "colab": {
          "base_uri": "https://localhost:8080/"
        },
        "id": "dkf6Nxp1L12x",
        "outputId": "2552edd0-57f7-4ca5-9850-84322f693eaf"
      },
      "execution_count": 2,
      "outputs": [
        {
          "output_type": "execute_result",
          "data": {
            "text/plain": [
              "['Source: https://www.genealogybranches.com/censuscosts.html\\n',\n",
              " 'Census Year\\tTotal Population\\tCensus Cost\\tAverage Cost Per Person\\n']"
            ]
          },
          "metadata": {},
          "execution_count": 2
        }
      ]
    },
    {
      "cell_type": "markdown",
      "source": [
        "### 3. Put the rest of the lines (containing useful data elements) in a new list named \"data_list\". Print data_list."
      ],
      "metadata": {
        "id": "ymQkDvRHMR2l"
      }
    },
    {
      "cell_type": "code",
      "source": [
        "data_list=line_list[2:]\n",
        "print(data_list)"
      ],
      "metadata": {
        "colab": {
          "base_uri": "https://localhost:8080/"
        },
        "id": "-WUKxrULMd2N",
        "outputId": "87121678-ee6e-4828-dfa4-cbfe76947e0b"
      },
      "execution_count": 3,
      "outputs": [
        {
          "output_type": "stream",
          "name": "stdout",
          "text": [
            "['1790\\t3,929,214\\t$44,377\\t1.13 cents\\n', '1800\\t5,308,483\\t$66,109\\t1.24 cents\\n', '1810\\t7,239,881\\t$178,445\\t2.46 cents\\n', '1820\\t9,633,822\\t$208,526\\t2.16 cents\\n', '1830\\t12,866,020\\t$378,545\\t2.94 cents\\n', '1840\\t17,069,458\\t$833,371\\t4.88 cents\\n', '1850\\t23,191,876\\t$1,423,351\\t6.14 cents\\n', '1860\\t31,443,321\\t$1,969,377\\t6.26 cents\\n', '1870\\t38,558,371\\t$3,421,198\\t8.87 cents\\n', '1880\\t50,155,783\\t$5,790,678\\t11.54 cents\\n', '1890\\t62,979,766\\t$11,547,127\\t18.33 cents\\n', '1900\\t76,303,387\\t$11,854,000\\t15.54 cents\\n', '1910\\t91,972,266\\t$15,968,000\\t17.07 cents\\n', '1920\\t105,710,620\\t$25,117,000\\t23.76 cents\\n', '1930\\t122,775,046\\t$40,156,000\\t32.71 cents\\n', '1940\\t131,669,275\\t$67,527,000\\t51.29 cents\\n', '1950\\t151,325,798\\t$91,462,000\\t60.44 cents\\n', '1960\\t179,323,175\\t$127,934,000\\t71.34 cents\\n', '1970\\t203,302,031\\t$247,653,000\\t$1.22\\n', '1980\\t226,542,199\\t$1,078,488,000\\t$4.76\\n', '1990\\t248,718,301\\t$2,492,830,000\\t$10.02\\n', '2000\\t281,421,906\\t$4.5 Billion\\t$15.99\\n', '2010*\\t308,745,538\\t$13 Billion\\t$42.11\\n']\n"
          ]
        }
      ]
    },
    {
      "cell_type": "markdown",
      "source": [
        "### 4. Extract the column \"Census Year\" from data_list and assign them to a list named year_list. Remove the \"\" from the last element \"2010\". Print the cleansed year_list."
      ],
      "metadata": {
        "id": "6wh_DVFTMyNW"
      }
    },
    {
      "cell_type": "code",
      "source": [
        "\n",
        "year_list = []\n",
        "\n",
        "for item in data_list:\n",
        "   info = item.split(\"\\t\")\n",
        "   year_list.append(info[0])\n",
        "year_list[len(year_list)-1] = \"2010\" \n",
        "print(year_list)\n"
      ],
      "metadata": {
        "colab": {
          "base_uri": "https://localhost:8080/"
        },
        "id": "AIpFtYnXaU-o",
        "outputId": "79c2c62a-6d5c-45c9-bca5-7997dae76c73"
      },
      "execution_count": 20,
      "outputs": [
        {
          "output_type": "stream",
          "name": "stdout",
          "text": [
            "['1790', '1800', '1810', '1820', '1830', '1840', '1850', '1860', '1870', '1880', '1890', '1900', '1910', '1920', '1930', '1940', '1950', '1960', '1970', '1980', '1990', '2000', '2010']\n"
          ]
        }
      ]
    },
    {
      "cell_type": "markdown",
      "source": [
        "### 5.Extract the \"Total Population\" column from the data_list and assign them to a list named \"pop_list\". Remove the \",\" from the numbers since Python doesn't recognize them. Print the cleansed \"pop_list\"."
      ],
      "metadata": {
        "id": "H_x3RLSlpA8v"
      }
    },
    {
      "cell_type": "code",
      "source": [
        "pop_list=[]\n",
        "for item in data_list:\n",
        "    info=item.split(\"\\t\")\n",
        "    pop_list.append(int((info[1]).replace(\",\",\"\")))\n",
        "\n",
        "print(pop_list)"
      ],
      "metadata": {
        "colab": {
          "base_uri": "https://localhost:8080/"
        },
        "id": "JQfT8hqHuORo",
        "outputId": "9949fe88-dcd4-472b-8ff6-cc1e3b66c652"
      },
      "execution_count": 5,
      "outputs": [
        {
          "output_type": "stream",
          "name": "stdout",
          "text": [
            "[3929214, 5308483, 7239881, 9633822, 12866020, 17069458, 23191876, 31443321, 38558371, 50155783, 62979766, 76303387, 91972266, 105710620, 122775046, 131669275, 151325798, 179323175, 203302031, 226542199, 248718301, 281421906, 308745538]\n"
          ]
        }
      ]
    },
    {
      "cell_type": "markdown",
      "source": [
        "### 6.Extract the \"Census Cost\" column from the data_list and assign them to a list named \"cost_list\". Remove the \",\", and \"$\", and \"Billion\". Make sure to add the \"0\"s to the numbers from which you removed \"Billion\". Print the cleansed cost_list."
      ],
      "metadata": {
        "id": "_cfhRmLrvoaW"
      }
    },
    {
      "cell_type": "code",
      "source": [
        "cost_list=[]\n",
        "\n",
        "for item in data_list:\n",
        "  info=item.split(\"\\t\")\n",
        "  census_cost = (info[2]).replace(\"$\",\"\").replace(\",\",\"\").replace(\" \",'')\n",
        "  if \"Billion\" in census_cost:\n",
        "     census_cost = float(census_cost.strip(\"Billion\"))*1000000000\n",
        "  cost_list.append(int(census_cost))\n",
        "\n",
        "print(cost_list)"
      ],
      "metadata": {
        "colab": {
          "base_uri": "https://localhost:8080/"
        },
        "id": "8uSZwRY7vrKY",
        "outputId": "9c823274-1bec-42c5-e0ac-d8cbe1f32201"
      },
      "execution_count": 6,
      "outputs": [
        {
          "output_type": "stream",
          "name": "stdout",
          "text": [
            "[44377, 66109, 178445, 208526, 378545, 833371, 1423351, 1969377, 3421198, 5790678, 11547127, 11854000, 15968000, 25117000, 40156000, 67527000, 91462000, 127934000, 247653000, 1078488000, 2492830000, 4500000000, 13000000000]\n"
          ]
        }
      ]
    },
    {
      "cell_type": "markdown",
      "source": [
        "###7.Extract the \"Average Cost per Person\" column from the data_list and assign them to a list named \"avg_list\". Remove the \"cents\", and \"$\". Make sure to divide the numbers in cents by 100 so that all numbers are measured in dollar. Print the cleansed avg_list."
      ],
      "metadata": {
        "id": "CKhkpnbt5lbI"
      }
    },
    {
      "cell_type": "code",
      "source": [
        "avg_list = []\n",
        "for item in data_list:\n",
        "  info = item.split('\\t')\n",
        "  avg_cost_data = info[3].replace(\"$\",\"\")\n",
        "  if 'cents' in avg_cost_data:\n",
        "    avg_cost_data = float(avg_cost_data.replace('cents',''))/100\n",
        "  avg_list.append(float(avg_cost_data))\n",
        "print(avg_list)"
      ],
      "metadata": {
        "colab": {
          "base_uri": "https://localhost:8080/"
        },
        "id": "ikF8LHTjyPo-",
        "outputId": "0f047da3-e0a5-4a94-a47a-105a4eabd8bd"
      },
      "execution_count": 9,
      "outputs": [
        {
          "output_type": "stream",
          "name": "stdout",
          "text": [
            "[0.0113, 0.0124, 0.0246, 0.0216, 0.0294, 0.048799999999999996, 0.061399999999999996, 0.0626, 0.08869999999999999, 0.11539999999999999, 0.1833, 0.15539999999999998, 0.1707, 0.2376, 0.3271, 0.5129, 0.6043999999999999, 0.7134, 1.22, 4.76, 10.02, 15.99, 42.11]\n"
          ]
        }
      ]
    },
    {
      "cell_type": "markdown",
      "source": [
        "### 8.Coalesce the cleansed data and save them to a text file named \"census_cost.csv\". The new file should look similar to the original source file except that it is in comma-delimited format and the numbers have been cleansed. The top two lines from the original file should be retained in the new file."
      ],
      "metadata": {
        "id": "LWGGl2zt7rwu"
      }
    },
    {
      "cell_type": "code",
      "source": [
        "final_list=[]\n",
        "final_list.append(top2_list[0])\n",
        "final_list.append(top2_list[1])\n",
        "for i in range(0,len(pop_list)):\n",
        "    new_file = year_list[i]+\",\"+str(pop_list[i])+\",\"+str(cost_list[i])+\",\"+str(avg_list[i])+\"\\n\"\n",
        "    final_list.append(new_file)\n",
        "print(final_list)\n",
        "\n",
        "with open('/content/census_cost.csv', 'w') as f:\n",
        "    for item in final_list:\n",
        "        f.write(item)"
      ],
      "metadata": {
        "colab": {
          "base_uri": "https://localhost:8080/"
        },
        "id": "hBR_gppw8BDO",
        "outputId": "326f744d-c2c6-49e3-9829-e6f365572c0e"
      },
      "execution_count": 26,
      "outputs": [
        {
          "output_type": "stream",
          "name": "stdout",
          "text": [
            "['Source: https://www.genealogybranches.com/censuscosts.html\\n', 'Census Year\\tTotal Population\\tCensus Cost\\tAverage Cost Per Person\\n', '1790,3929214,44377,0.0113\\n', '1800,5308483,66109,0.0124\\n', '1810,7239881,178445,0.0246\\n', '1820,9633822,208526,0.0216\\n', '1830,12866020,378545,0.0294\\n', '1840,17069458,833371,0.048799999999999996\\n', '1850,23191876,1423351,0.061399999999999996\\n', '1860,31443321,1969377,0.0626\\n', '1870,38558371,3421198,0.08869999999999999\\n', '1880,50155783,5790678,0.11539999999999999\\n', '1890,62979766,11547127,0.1833\\n', '1900,76303387,11854000,0.15539999999999998\\n', '1910,91972266,15968000,0.1707\\n', '1920,105710620,25117000,0.2376\\n', '1930,122775046,40156000,0.3271\\n', '1940,131669275,67527000,0.5129\\n', '1950,151325798,91462000,0.6043999999999999\\n', '1960,179323175,127934000,0.7134\\n', '1970,203302031,247653000,1.22\\n', '1980,226542199,1078488000,4.76\\n', '1990,248718301,2492830000,10.02\\n', '2000,281421906,4500000000,15.99\\n', '2010,308745538,13000000000,42.11\\n']\n"
          ]
        }
      ]
    },
    {
      "cell_type": "markdown",
      "source": [
        "### 9.Write code to open the newly-created file \"census_cost.csv\", read all lines and display them. How does it look?"
      ],
      "metadata": {
        "id": "vIcUFKN5CWBT"
      }
    },
    {
      "cell_type": "code",
      "source": [
        "with open(\"/content/census_cost.csv\",'r') as f1:\n",
        "   new_csv =f1 .readlines()\n",
        "print(new_csv)"
      ],
      "metadata": {
        "colab": {
          "base_uri": "https://localhost:8080/"
        },
        "id": "BFY49k79C9li",
        "outputId": "ca6f56d1-ead9-4afd-8a17-c5e925155365"
      },
      "execution_count": 27,
      "outputs": [
        {
          "output_type": "stream",
          "name": "stdout",
          "text": [
            "['Source: https://www.genealogybranches.com/censuscosts.html\\n', 'Census Year\\tTotal Population\\tCensus Cost\\tAverage Cost Per Person\\n', '1790,3929214,44377,0.0113\\n', '1800,5308483,66109,0.0124\\n', '1810,7239881,178445,0.0246\\n', '1820,9633822,208526,0.0216\\n', '1830,12866020,378545,0.0294\\n', '1840,17069458,833371,0.048799999999999996\\n', '1850,23191876,1423351,0.061399999999999996\\n', '1860,31443321,1969377,0.0626\\n', '1870,38558371,3421198,0.08869999999999999\\n', '1880,50155783,5790678,0.11539999999999999\\n', '1890,62979766,11547127,0.1833\\n', '1900,76303387,11854000,0.15539999999999998\\n', '1910,91972266,15968000,0.1707\\n', '1920,105710620,25117000,0.2376\\n', '1930,122775046,40156000,0.3271\\n', '1940,131669275,67527000,0.5129\\n', '1950,151325798,91462000,0.6043999999999999\\n', '1960,179323175,127934000,0.7134\\n', '1970,203302031,247653000,1.22\\n', '1980,226542199,1078488000,4.76\\n', '1990,248718301,2492830000,10.02\\n', '2000,281421906,4500000000,15.99\\n', '2010,308745538,13000000000,42.11\\n']\n"
          ]
        }
      ]
    }
  ]
}