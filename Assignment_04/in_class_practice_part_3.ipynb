{
  "nbformat": 4,
  "nbformat_minor": 0,
  "metadata": {
    "colab": {
      "name": "in_class_practice_part_3",
      "provenance": [],
      "authorship_tag": "ABX9TyMwfWVly8jvUbj24Wtq7GH/",
      "include_colab_link": true
    },
    "kernelspec": {
      "name": "python3",
      "display_name": "Python 3"
    },
    "language_info": {
      "name": "python"
    }
  },
  "cells": [
    {
      "cell_type": "markdown",
      "metadata": {
        "id": "view-in-github",
        "colab_type": "text"
      },
      "source": [
        "<a href=\"https://colab.research.google.com/github/akhilkumar-kondamidi/akhilkumar_data690/blob/main/Assignment_04/in_class_practice_part_3.ipynb\" target=\"_parent\"><img src=\"https://colab.research.google.com/assets/colab-badge.svg\" alt=\"Open In Colab\"/></a>"
      ]
    },
    {
      "cell_type": "markdown",
      "source": [
        "#In Class Practice part 3\n",
        "- Date:02/21/22\n",
        "- Name: Akhil Kumar"
      ],
      "metadata": {
        "id": "yPmjN0dMLtgA"
      }
    },
    {
      "cell_type": "code",
      "source": [
        "with open(\"census_costs.txt\",\"r\") as f:\n",
        "    lines_list=f.readlines()\n",
        "\n",
        "lines   "
      ],
      "metadata": {
        "colab": {
          "base_uri": "https://localhost:8080/"
        },
        "id": "VBpUQG31Lv3e",
        "outputId": "ffd4464a-9b9b-4ed1-b773-216a29b6538c"
      },
      "execution_count": 27,
      "outputs": [
        {
          "output_type": "execute_result",
          "data": {
            "text/plain": [
              "['Source: https://www.genealogybranches.com/censuscosts.html\\n',\n",
              " 'Census Year\\tTotal Population\\tCensus Cost\\tAverage Cost Per Person\\n',\n",
              " '1790\\t3,929,214\\t$44,377\\t1.13 cents\\n',\n",
              " '1800\\t5,308,483\\t$66,109\\t1.24 cents\\n',\n",
              " '1810\\t7,239,881\\t$178,445\\t2.46 cents\\n',\n",
              " '1820\\t9,633,822\\t$208,526\\t2.16 cents\\n',\n",
              " '1830\\t12,866,020\\t$378,545\\t2.94 cents\\n',\n",
              " '1840\\t17,069,458\\t$833,371\\t4.88 cents\\n',\n",
              " '1850\\t23,191,876\\t$1,423,351\\t6.14 cents\\n',\n",
              " '1860\\t31,443,321\\t$1,969,377\\t6.26 cents\\n',\n",
              " '1870\\t38,558,371\\t$3,421,198\\t8.87 cents\\n',\n",
              " '1880\\t50,155,783\\t$5,790,678\\t11.54 cents\\n',\n",
              " '1890\\t62,979,766\\t$11,547,127\\t18.33 cents\\n',\n",
              " '1900\\t76,303,387\\t$11,854,000\\t15.54 cents\\n',\n",
              " '1910\\t91,972,266\\t$15,968,000\\t17.07 cents\\n',\n",
              " '1920\\t105,710,620\\t$25,117,000\\t23.76 cents\\n',\n",
              " '1930\\t122,775,046\\t$40,156,000\\t32.71 cents\\n',\n",
              " '1940\\t131,669,275\\t$67,527,000\\t51.29 cents\\n',\n",
              " '1950\\t151,325,798\\t$91,462,000\\t60.44 cents\\n',\n",
              " '1960\\t179,323,175\\t$127,934,000\\t71.34 cents\\n',\n",
              " '1970\\t203,302,031\\t$247,653,000\\t$1.22\\n',\n",
              " '1980\\t226,542,199\\t$1,078,488,000\\t$4.76\\n',\n",
              " '1990\\t248,718,301\\t$2,492,830,000\\t$10.02\\n',\n",
              " '2000\\t281,421,906\\t$4.5 Billion\\t$15.99\\n',\n",
              " '2010*\\t308,745,538\\t$13 Billion\\t$42.11\\n']"
            ]
          },
          "metadata": {},
          "execution_count": 27
        }
      ]
    },
    {
      "cell_type": "code",
      "source": [
        "len(lines_list)"
      ],
      "metadata": {
        "colab": {
          "base_uri": "https://localhost:8080/"
        },
        "id": "rEBjBa4eOebC",
        "outputId": "224bb005-5c0c-464f-d990-acb9005547b5"
      },
      "execution_count": 28,
      "outputs": [
        {
          "output_type": "execute_result",
          "data": {
            "text/plain": [
              "25"
            ]
          },
          "metadata": {},
          "execution_count": 28
        }
      ]
    },
    {
      "cell_type": "code",
      "source": [
        "top2_list=lines_list[0:2]\n",
        "top2_list"
      ],
      "metadata": {
        "colab": {
          "base_uri": "https://localhost:8080/"
        },
        "id": "5s8U4upLO_6q",
        "outputId": "97ac2b26-0f3f-4783-f3bc-bc33a9e61639"
      },
      "execution_count": 29,
      "outputs": [
        {
          "output_type": "execute_result",
          "data": {
            "text/plain": [
              "['Source: https://www.genealogybranches.com/censuscosts.html\\n',\n",
              " 'Census Year\\tTotal Population\\tCensus Cost\\tAverage Cost Per Person\\n']"
            ]
          },
          "metadata": {},
          "execution_count": 29
        }
      ]
    },
    {
      "cell_type": "code",
      "source": [
        "#alist[stop:stop]    STOP is a STOP sign,yu dont include it(you dont touch it,dont run through)\n",
        "#alist[-1] last one\n",
        "#alist[-4] fourth from the last\n",
        "last2_list=lines_list[-2:]\n",
        "last2_list"
      ],
      "metadata": {
        "colab": {
          "base_uri": "https://localhost:8080/"
        },
        "id": "6Uor80X_PJUR",
        "outputId": "cc1186b2-5011-423f-bd7c-5916693b2107"
      },
      "execution_count": 30,
      "outputs": [
        {
          "output_type": "execute_result",
          "data": {
            "text/plain": [
              "['2000\\t281,421,906\\t$4.5 Billion\\t$15.99\\n',\n",
              " '2010*\\t308,745,538\\t$13 Billion\\t$42.11\\n']"
            ]
          },
          "metadata": {},
          "execution_count": 30
        }
      ]
    },
    {
      "cell_type": "code",
      "source": [
        "lines_list[-4:-1]"
      ],
      "metadata": {
        "colab": {
          "base_uri": "https://localhost:8080/"
        },
        "id": "k8mDHBrwPnsi",
        "outputId": "0eaa888e-b6a7-48f8-ae20-6e52c7e6114b"
      },
      "execution_count": 31,
      "outputs": [
        {
          "output_type": "execute_result",
          "data": {
            "text/plain": [
              "['1980\\t226,542,199\\t$1,078,488,000\\t$4.76\\n',\n",
              " '1990\\t248,718,301\\t$2,492,830,000\\t$10.02\\n',\n",
              " '2000\\t281,421,906\\t$4.5 Billion\\t$15.99\\n']"
            ]
          },
          "metadata": {},
          "execution_count": 31
        }
      ]
    },
    {
      "cell_type": "code",
      "source": [
        "data_list= lines_list[2:]\n",
        "\n",
        "data_list"
      ],
      "metadata": {
        "colab": {
          "base_uri": "https://localhost:8080/"
        },
        "id": "siWTxOGqPQVb",
        "outputId": "70d8951e-c589-4274-9586-b122bfdbebd5"
      },
      "execution_count": 32,
      "outputs": [
        {
          "output_type": "execute_result",
          "data": {
            "text/plain": [
              "['1790\\t3,929,214\\t$44,377\\t1.13 cents\\n',\n",
              " '1800\\t5,308,483\\t$66,109\\t1.24 cents\\n',\n",
              " '1810\\t7,239,881\\t$178,445\\t2.46 cents\\n',\n",
              " '1820\\t9,633,822\\t$208,526\\t2.16 cents\\n',\n",
              " '1830\\t12,866,020\\t$378,545\\t2.94 cents\\n',\n",
              " '1840\\t17,069,458\\t$833,371\\t4.88 cents\\n',\n",
              " '1850\\t23,191,876\\t$1,423,351\\t6.14 cents\\n',\n",
              " '1860\\t31,443,321\\t$1,969,377\\t6.26 cents\\n',\n",
              " '1870\\t38,558,371\\t$3,421,198\\t8.87 cents\\n',\n",
              " '1880\\t50,155,783\\t$5,790,678\\t11.54 cents\\n',\n",
              " '1890\\t62,979,766\\t$11,547,127\\t18.33 cents\\n',\n",
              " '1900\\t76,303,387\\t$11,854,000\\t15.54 cents\\n',\n",
              " '1910\\t91,972,266\\t$15,968,000\\t17.07 cents\\n',\n",
              " '1920\\t105,710,620\\t$25,117,000\\t23.76 cents\\n',\n",
              " '1930\\t122,775,046\\t$40,156,000\\t32.71 cents\\n',\n",
              " '1940\\t131,669,275\\t$67,527,000\\t51.29 cents\\n',\n",
              " '1950\\t151,325,798\\t$91,462,000\\t60.44 cents\\n',\n",
              " '1960\\t179,323,175\\t$127,934,000\\t71.34 cents\\n',\n",
              " '1970\\t203,302,031\\t$247,653,000\\t$1.22\\n',\n",
              " '1980\\t226,542,199\\t$1,078,488,000\\t$4.76\\n',\n",
              " '1990\\t248,718,301\\t$2,492,830,000\\t$10.02\\n',\n",
              " '2000\\t281,421,906\\t$4.5 Billion\\t$15.99\\n',\n",
              " '2010*\\t308,745,538\\t$13 Billion\\t$42.11\\n']"
            ]
          },
          "metadata": {},
          "execution_count": 32
        }
      ]
    },
    {
      "cell_type": "code",
      "source": [
        "year_list= []\n",
        "\n",
        "for lines in data_list:\n",
        "    year=lines[0:4]\n",
        "    year_list.append(year)\n",
        "\n",
        "print(year_list)\n",
        " "
      ],
      "metadata": {
        "colab": {
          "base_uri": "https://localhost:8080/"
        },
        "id": "PrEEESEkRBej",
        "outputId": "b854659b-53f3-434d-b7d3-c44989561d80"
      },
      "execution_count": 39,
      "outputs": [
        {
          "output_type": "stream",
          "name": "stdout",
          "text": [
            "['1790', '1800', '1810', '1820', '1830', '1840', '1850', '1860', '1870', '1880', '1890', '1900', '1910', '1920', '1930', '1940', '1950', '1960', '1970', '1980', '1990', '2000', '2010']\n"
          ]
        }
      ]
    },
    {
      "cell_type": "code",
      "source": [
        "pop_list= []\n",
        "\n",
        "for lines in data_list:\n",
        "    part_list=lines.split(\"\\t\")\n",
        "    pop=part_list[1]\n",
        "    pop_list.append(pop)\n",
        "\n",
        "print(pop_list)"
      ],
      "metadata": {
        "colab": {
          "base_uri": "https://localhost:8080/"
        },
        "id": "vUycazXySVNe",
        "outputId": "0a6c7c55-8503-4858-84bf-e742ec9ff201"
      },
      "execution_count": 41,
      "outputs": [
        {
          "output_type": "stream",
          "name": "stdout",
          "text": [
            "['3,929,214', '5,308,483', '7,239,881', '9,633,822', '12,866,020', '17,069,458', '23,191,876', '31,443,321', '38,558,371', '50,155,783', '62,979,766', '76,303,387', '91,972,266', '105,710,620', '122,775,046', '131,669,275', '151,325,798', '179,323,175', '203,302,031', '226,542,199', '248,718,301', '281,421,906', '308,745,538']\n"
          ]
        }
      ]
    },
    {
      "cell_type": "code",
      "source": [
        "cleansed_pop_list=[]\n",
        "\n",
        "for pop in pop_list:\n",
        "    cleansed_pop=pop.replace(\",\",\"\")\n",
        "    cleansed_pop_list.append(int(cleansed_pop))\n",
        "\n",
        "print(cleansed_pop_list)"
      ],
      "metadata": {
        "colab": {
          "base_uri": "https://localhost:8080/"
        },
        "id": "fTKzB9vfS9AM",
        "outputId": "59d77fce-08ce-4ece-a2fd-1b915eed1bbe"
      },
      "execution_count": 46,
      "outputs": [
        {
          "output_type": "stream",
          "name": "stdout",
          "text": [
            "[3929214, 5308483, 7239881, 9633822, 12866020, 17069458, 23191876, 31443321, 38558371, 50155783, 62979766, 76303387, 91972266, 105710620, 122775046, 131669275, 151325798, 179323175, 203302031, 226542199, 248718301, 281421906, 308745538]\n"
          ]
        }
      ]
    }
  ]
}