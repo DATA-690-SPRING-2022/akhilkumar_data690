{
  "nbformat": 4,
  "nbformat_minor": 0,
  "metadata": {
    "colab": {
      "name": "inclass_session_04.ipynb",
      "provenance": [],
      "authorship_tag": "ABX9TyN9bwJiAayt5CfueMpKPNVp",
      "include_colab_link": true
    },
    "kernelspec": {
      "name": "python3",
      "display_name": "Python 3"
    },
    "language_info": {
      "name": "python"
    }
  },
  "cells": [
    {
      "cell_type": "markdown",
      "metadata": {
        "id": "view-in-github",
        "colab_type": "text"
      },
      "source": [
        "<a href=\"https://colab.research.google.com/github/akhilkumar-kondamidi/akhilkumar_data690/blob/main/Assignment_04/inclass_session_04.ipynb\" target=\"_parent\"><img src=\"https://colab.research.google.com/assets/colab-badge.svg\" alt=\"Open In Colab\"/></a>"
      ]
    },
    {
      "cell_type": "markdown",
      "source": [
        "#In class practice\n",
        "- Date:02/21/22\n",
        "- Name: Akhil Kumar"
      ],
      "metadata": {
        "id": "xFXL0DUU0d4e"
      }
    },
    {
      "cell_type": "code",
      "source": [
        "import random\n",
        "import re\n",
        "for i in range(0,10):\n",
        "    print(end=\"\\n \")\n",
        "    for j in range(0,10):\n",
        "        num=random.randint(0,9)\n",
        "        if (num % 2) == 0:\n",
        "            print(num, end=\" \")\n",
        "        else:\n",
        "            strnum = str(num)\n",
        "            strnum=strnum.replace(strnum,\"@\")\n",
        "            print(strnum, end=\" \")"
      ],
      "metadata": {
        "colab": {
          "base_uri": "https://localhost:8080/"
        },
        "id": "g9n6Bcnc0tWD",
        "outputId": "e02bc6b4-0f08-4a9a-8e89-9bf82aa77718"
      },
      "execution_count": 1,
      "outputs": [
        {
          "output_type": "stream",
          "name": "stdout",
          "text": [
            "\n",
            " @ @ @ 2 4 6 @ @ @ 4 \n",
            " 4 @ 8 2 8 @ 4 @ 0 @ \n",
            " 2 2 @ @ @ 4 @ 0 2 @ \n",
            " @ @ 4 8 @ 8 @ 2 @ 2 \n",
            " @ 8 8 0 2 @ @ @ @ 8 \n",
            " 0 8 6 @ 0 @ @ @ @ @ \n",
            " @ @ @ @ 6 @ @ @ @ @ \n",
            " @ @ 6 0 8 8 @ @ 4 2 \n",
            " @ 8 4 @ 0 @ 0 2 6 8 \n",
            " 2 @ 6 4 @ @ 2 @ 8 0 "
          ]
        }
      ]
    },
    {
      "cell_type": "code",
      "source": [
        "x=\"Hello wporld!\"\n",
        "\n",
        "print(x)"
      ],
      "metadata": {
        "colab": {
          "base_uri": "https://localhost:8080/"
        },
        "id": "10Pkuej908L8",
        "outputId": "dbaddccb-3b03-460a-ca79-d7490014fada"
      },
      "execution_count": 3,
      "outputs": [
        {
          "output_type": "stream",
          "name": "stdout",
          "text": [
            "Hello wporld!\n"
          ]
        }
      ]
    },
    {
      "cell_type": "code",
      "source": [
        "x=x.replace(\"p\",\"\")\n",
        "\n",
        "print(x)"
      ],
      "metadata": {
        "colab": {
          "base_uri": "https://localhost:8080/"
        },
        "id": "SEYXsOtH1MCb",
        "outputId": "76b47299-3ffd-496b-d009-beed0c080444"
      },
      "execution_count": 4,
      "outputs": [
        {
          "output_type": "stream",
          "name": "stdout",
          "text": [
            "Hello world!\n"
          ]
        }
      ]
    },
    {
      "cell_type": "code",
      "source": [
        "x=x.replace(\"Hello\",\"hi\")\n",
        "\n",
        "print(x)"
      ],
      "metadata": {
        "colab": {
          "base_uri": "https://localhost:8080/"
        },
        "id": "jq8MYWmc1a-P",
        "outputId": "630733a1-8e97-43db-a654-d957d88bd172"
      },
      "execution_count": 6,
      "outputs": [
        {
          "output_type": "stream",
          "name": "stdout",
          "text": [
            "hi world!\n"
          ]
        }
      ]
    },
    {
      "cell_type": "code",
      "source": [
        "x=x.replace(\"w\",\"W\")\n",
        "\n",
        "print(x)"
      ],
      "metadata": {
        "colab": {
          "base_uri": "https://localhost:8080/"
        },
        "id": "IwuPCaNN1jzM",
        "outputId": "13a57eb8-df06-4b6c-9c9d-33fd0418f664"
      },
      "execution_count": 8,
      "outputs": [
        {
          "output_type": "stream",
          "name": "stdout",
          "text": [
            "hi World!\n"
          ]
        }
      ]
    },
    {
      "cell_type": "code",
      "source": [
        "x=x.upper()\n",
        "\n",
        "print(x)"
      ],
      "metadata": {
        "colab": {
          "base_uri": "https://localhost:8080/"
        },
        "id": "tNG8uhX22Rdh",
        "outputId": "dc14e53b-2384-4c31-9b45-e0f1d5f5e833"
      },
      "execution_count": 9,
      "outputs": [
        {
          "output_type": "stream",
          "name": "stdout",
          "text": [
            "HI WORLD!\n"
          ]
        }
      ]
    },
    {
      "cell_type": "code",
      "source": [
        "x=x.lower()\n",
        "\n",
        "print(x)"
      ],
      "metadata": {
        "colab": {
          "base_uri": "https://localhost:8080/"
        },
        "id": "D8StCEgK2emk",
        "outputId": "957b5833-00a0-498c-e4ab-86c6e96ae3b5"
      },
      "execution_count": 10,
      "outputs": [
        {
          "output_type": "stream",
          "name": "stdout",
          "text": [
            "hi world!\n"
          ]
        }
      ]
    },
    {
      "cell_type": "markdown",
      "source": [
        "#String functions/methods/operations\n",
        "\n",
        " - upper()\n",
        " - lower()\n",
        " - replace()\n",
        " - strip()\n",
        " - lstrip()\n",
        " - rstrip()\n"
      ],
      "metadata": {
        "id": "gaYNX4Dw2vnH"
      }
    },
    {
      "cell_type": "code",
      "source": [
        "#generate 100 number first\n",
        "\n",
        "numbers=[] # This list 1s to hold 100 random numbers\n",
        "for i in range (100):\n",
        "     numbers.append (random.randint (0, 9))\n",
        "\n",
        "print(numbers)\n",
        "print(len(numbers))\n"
      ],
      "metadata": {
        "colab": {
          "base_uri": "https://localhost:8080/"
        },
        "id": "dIevqMeZ3LOT",
        "outputId": "5a8f6b7f-aae0-4e59-f620-cd3bc7727ae0"
      },
      "execution_count": 11,
      "outputs": [
        {
          "output_type": "stream",
          "name": "stdout",
          "text": [
            "[4, 5, 8, 3, 8, 5, 1, 6, 2, 1, 9, 9, 1, 3, 4, 7, 3, 9, 8, 6, 3, 7, 4, 0, 0, 8, 6, 0, 9, 2, 8, 2, 6, 1, 3, 3, 6, 6, 1, 4, 0, 9, 5, 6, 1, 9, 4, 1, 5, 1, 4, 4, 0, 9, 4, 6, 5, 0, 2, 1, 8, 6, 1, 8, 6, 4, 3, 8, 8, 0, 8, 2, 7, 0, 3, 9, 4, 2, 5, 8, 9, 0, 7, 9, 8, 2, 0, 8, 5, 0, 2, 9, 1, 8, 8, 4, 4, 3, 0, 3]\n",
            "100\n"
          ]
        }
      ]
    },
    {
      "cell_type": "code",
      "source": [
        "for i in range(0,100,1):\n",
        "    print(\"index= \",i,\"member = \",numbers[i])"
      ],
      "metadata": {
        "colab": {
          "base_uri": "https://localhost:8080/"
        },
        "id": "EZ8oZ9Fk5BUC",
        "outputId": "e54a706b-7c59-409a-c05a-826cb2decb95"
      },
      "execution_count": 23,
      "outputs": [
        {
          "output_type": "stream",
          "name": "stdout",
          "text": [
            "index=  0 member =  4\n",
            "index=  1 member =  5\n",
            "index=  2 member =  8\n",
            "index=  3 member =  3\n",
            "index=  4 member =  8\n",
            "index=  5 member =  5\n",
            "index=  6 member =  1\n",
            "index=  7 member =  6\n",
            "index=  8 member =  2\n",
            "index=  9 member =  1\n",
            "index=  10 member =  9\n",
            "index=  11 member =  9\n",
            "index=  12 member =  1\n",
            "index=  13 member =  3\n",
            "index=  14 member =  4\n",
            "index=  15 member =  7\n",
            "index=  16 member =  3\n",
            "index=  17 member =  9\n",
            "index=  18 member =  8\n",
            "index=  19 member =  6\n",
            "index=  20 member =  3\n",
            "index=  21 member =  7\n",
            "index=  22 member =  4\n",
            "index=  23 member =  0\n",
            "index=  24 member =  0\n",
            "index=  25 member =  8\n",
            "index=  26 member =  6\n",
            "index=  27 member =  0\n",
            "index=  28 member =  9\n",
            "index=  29 member =  2\n",
            "index=  30 member =  8\n",
            "index=  31 member =  2\n",
            "index=  32 member =  6\n",
            "index=  33 member =  1\n",
            "index=  34 member =  3\n",
            "index=  35 member =  3\n",
            "index=  36 member =  6\n",
            "index=  37 member =  6\n",
            "index=  38 member =  1\n",
            "index=  39 member =  4\n",
            "index=  40 member =  0\n",
            "index=  41 member =  9\n",
            "index=  42 member =  5\n",
            "index=  43 member =  6\n",
            "index=  44 member =  1\n",
            "index=  45 member =  9\n",
            "index=  46 member =  4\n",
            "index=  47 member =  1\n",
            "index=  48 member =  5\n",
            "index=  49 member =  1\n",
            "index=  50 member =  4\n",
            "index=  51 member =  4\n",
            "index=  52 member =  0\n",
            "index=  53 member =  9\n",
            "index=  54 member =  4\n",
            "index=  55 member =  6\n",
            "index=  56 member =  5\n",
            "index=  57 member =  0\n",
            "index=  58 member =  2\n",
            "index=  59 member =  1\n",
            "index=  60 member =  8\n",
            "index=  61 member =  6\n",
            "index=  62 member =  1\n",
            "index=  63 member =  8\n",
            "index=  64 member =  6\n",
            "index=  65 member =  4\n",
            "index=  66 member =  3\n",
            "index=  67 member =  8\n",
            "index=  68 member =  8\n",
            "index=  69 member =  0\n",
            "index=  70 member =  8\n",
            "index=  71 member =  2\n",
            "index=  72 member =  7\n",
            "index=  73 member =  0\n",
            "index=  74 member =  3\n",
            "index=  75 member =  9\n",
            "index=  76 member =  4\n",
            "index=  77 member =  2\n",
            "index=  78 member =  5\n",
            "index=  79 member =  8\n",
            "index=  80 member =  9\n",
            "index=  81 member =  0\n",
            "index=  82 member =  7\n",
            "index=  83 member =  9\n",
            "index=  84 member =  8\n",
            "index=  85 member =  2\n",
            "index=  86 member =  0\n",
            "index=  87 member =  8\n",
            "index=  88 member =  5\n",
            "index=  89 member =  0\n",
            "index=  90 member =  2\n",
            "index=  91 member =  9\n",
            "index=  92 member =  1\n",
            "index=  93 member =  8\n",
            "index=  94 member =  8\n",
            "index=  95 member =  4\n",
            "index=  96 member =  4\n",
            "index=  97 member =  3\n",
            "index=  98 member =  0\n",
            "index=  99 member =  3\n"
          ]
        }
      ]
    },
    {
      "cell_type": "code",
      "source": [
        "print(numbers[0])"
      ],
      "metadata": {
        "colab": {
          "base_uri": "https://localhost:8080/"
        },
        "id": "M5r-EuvJ4Yqj",
        "outputId": "624c5b94-e388-436d-dc63-5086f79c40a8"
      },
      "execution_count": 12,
      "outputs": [
        {
          "output_type": "stream",
          "name": "stdout",
          "text": [
            "4\n"
          ]
        }
      ]
    },
    {
      "cell_type": "code",
      "source": [
        "count=0\n",
        "for i in range(10):\n",
        "    for j in range(10):\n",
        "        print(numbers[count],\" \", end =\" \")\n",
        "        count+=1\n",
        "    print(\"\\n\")"
      ],
      "metadata": {
        "colab": {
          "base_uri": "https://localhost:8080/"
        },
        "id": "-emmKZ_b4S_9",
        "outputId": "9127f0b9-361e-4e04-e3a4-827a91ad847a"
      },
      "execution_count": 22,
      "outputs": [
        {
          "output_type": "stream",
          "name": "stdout",
          "text": [
            "4   5   8   3   8   5   1   6   2   1   \n",
            "\n",
            "9   9   1   3   4   7   3   9   8   6   \n",
            "\n",
            "3   7   4   0   0   8   6   0   9   2   \n",
            "\n",
            "8   2   6   1   3   3   6   6   1   4   \n",
            "\n",
            "0   9   5   6   1   9   4   1   5   1   \n",
            "\n",
            "4   4   0   9   4   6   5   0   2   1   \n",
            "\n",
            "8   6   1   8   6   4   3   8   8   0   \n",
            "\n",
            "8   2   7   0   3   9   4   2   5   8   \n",
            "\n",
            "9   0   7   9   8   2   0   8   5   0   \n",
            "\n",
            "2   9   1   8   8   4   4   3   0   3   \n",
            "\n"
          ]
        }
      ]
    },
    {
      "cell_type": "code",
      "source": [
        "# when to initialize a variable\n",
        "\n",
        "sum=0\n",
        "for n in range (10): #repeats each row 10 times\n",
        "    for i in range(10): #repeats each integer 10 times\n",
        "       y=random.randint(0,9)\n",
        "       sum=sum+ y\n",
        "       print(y,end=\" \") #prints one integer with space at the end\n",
        "    print( \"*\",sum,end=\" \\n\")  #starts a new row after each 10 char\n",
        "    sum=0    "
      ],
      "metadata": {
        "colab": {
          "base_uri": "https://localhost:8080/"
        },
        "id": "LjViOCcZ8Na2",
        "outputId": "11cb230f-5306-40da-a619-8bc579a0e25d"
      },
      "execution_count": 28,
      "outputs": [
        {
          "output_type": "stream",
          "name": "stdout",
          "text": [
            "3 1 9 7 3 9 4 3 2 6 * 47 \n",
            "3 2 6 8 0 7 5 5 1 8 * 45 \n",
            "5 0 9 9 6 4 4 8 6 3 * 54 \n",
            "3 9 8 1 9 5 4 9 6 1 * 55 \n",
            "7 3 9 7 0 5 0 0 9 0 * 40 \n",
            "7 6 7 3 0 1 4 2 0 0 * 30 \n",
            "4 1 0 7 5 4 2 1 4 9 * 37 \n",
            "6 8 8 5 1 0 3 0 3 2 * 36 \n",
            "9 9 8 8 3 2 8 7 5 3 * 62 \n",
            "6 7 9 0 6 1 5 5 9 4 * 52 \n"
          ]
        }
      ]
    },
    {
      "cell_type": "code",
      "source": [
        "x=[0,0,0,0,0,0]\n",
        "\n",
        "print(x)"
      ],
      "metadata": {
        "colab": {
          "base_uri": "https://localhost:8080/"
        },
        "id": "NotMP2Sy7DtG",
        "outputId": "19191709-0a8f-457c-f58b-7625307c7940"
      },
      "execution_count": 24,
      "outputs": [
        {
          "output_type": "stream",
          "name": "stdout",
          "text": [
            "[0, 0, 0, 0, 0, 0]\n"
          ]
        }
      ]
    },
    {
      "cell_type": "code",
      "source": [
        "x=[0]*6\n",
        "\n",
        "print(x)"
      ],
      "metadata": {
        "colab": {
          "base_uri": "https://localhost:8080/"
        },
        "id": "9VSj6vuJ7Pox",
        "outputId": "8402419c-2abc-4a0a-be7d-37905874548a"
      },
      "execution_count": 25,
      "outputs": [
        {
          "output_type": "stream",
          "name": "stdout",
          "text": [
            "[0, 0, 0, 0, 0, 0]\n"
          ]
        }
      ]
    },
    {
      "cell_type": "code",
      "source": [
        "x=[0]*100\n",
        "\n",
        "print(x)"
      ],
      "metadata": {
        "colab": {
          "base_uri": "https://localhost:8080/"
        },
        "id": "Jp8DuV3H7YC6",
        "outputId": "8505fa0e-c810-4d28-c326-b8fe024e9043"
      },
      "execution_count": 26,
      "outputs": [
        {
          "output_type": "stream",
          "name": "stdout",
          "text": [
            "[0, 0, 0, 0, 0, 0, 0, 0, 0, 0, 0, 0, 0, 0, 0, 0, 0, 0, 0, 0, 0, 0, 0, 0, 0, 0, 0, 0, 0, 0, 0, 0, 0, 0, 0, 0, 0, 0, 0, 0, 0, 0, 0, 0, 0, 0, 0, 0, 0, 0, 0, 0, 0, 0, 0, 0, 0, 0, 0, 0, 0, 0, 0, 0, 0, 0, 0, 0, 0, 0, 0, 0, 0, 0, 0, 0, 0, 0, 0, 0, 0, 0, 0, 0, 0, 0, 0, 0, 0, 0, 0, 0, 0, 0, 0, 0, 0, 0, 0, 0]\n"
          ]
        }
      ]
    }
  ]
}