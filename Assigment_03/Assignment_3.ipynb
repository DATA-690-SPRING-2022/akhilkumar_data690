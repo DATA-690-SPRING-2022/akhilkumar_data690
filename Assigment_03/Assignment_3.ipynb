{
  "nbformat": 4,
  "nbformat_minor": 0,
  "metadata": {
    "colab": {
      "name": "Assignment_3.ipynb",
      "provenance": [],
      "collapsed_sections": [],
      "authorship_tag": "ABX9TyOR3aGQOIwefyKKgoRtdv9o",
      "include_colab_link": true
    },
    "kernelspec": {
      "name": "python3",
      "display_name": "Python 3"
    },
    "language_info": {
      "name": "python"
    }
  },
  "cells": [
    {
      "cell_type": "markdown",
      "metadata": {
        "id": "view-in-github",
        "colab_type": "text"
      },
      "source": [
        "<a href=\"https://colab.research.google.com/github/akhilkumar-kondamidi/akhilkumar_data690/blob/main/Assigment_03/Assignment_3.ipynb\" target=\"_parent\"><img src=\"https://colab.research.google.com/assets/colab-badge.svg\" alt=\"Open In Colab\"/></a>"
      ]
    },
    {
      "cell_type": "markdown",
      "source": [
        "# Assignment 3"
      ],
      "metadata": {
        "id": "1sP1SjrSL56n"
      }
    },
    {
      "cell_type": "markdown",
      "source": [
        "# 1. Generating 100 random integers between 0 and 9 and printing them in a 10 by 10 matrix"
      ],
      "metadata": {
        "id": "yiqiwXYwvZAN"
      }
    },
    {
      "cell_type": "code",
      "source": [
        "import random as rd"
      ],
      "metadata": {
        "id": "iN9NVZj_4dt8"
      },
      "execution_count": 1,
      "outputs": []
    },
    {
      "cell_type": "code",
      "execution_count": 2,
      "metadata": {
        "colab": {
          "base_uri": "https://localhost:8080/"
        },
        "id": "C1tLvI1ge4hy",
        "outputId": "6006efa1-876c-442f-b52d-1643cc6fd711"
      },
      "outputs": [
        {
          "output_type": "stream",
          "name": "stdout",
          "text": [
            "9 7 0 7 9 1 0 6 6 1 \n",
            "8 9 4 6 4 8 5 4 7 6 \n",
            "7 2 2 2 6 3 6 8 4 1 \n",
            "7 3 2 1 5 9 9 9 4 6 \n",
            "9 0 4 1 0 2 9 1 8 2 \n",
            "0 0 3 6 0 9 5 7 7 3 \n",
            "9 7 1 4 3 9 5 4 4 6 \n",
            "3 1 6 6 7 2 3 7 3 7 \n",
            "0 9 4 0 6 4 0 3 2 7 \n",
            "7 4 7 0 1 2 2 9 1 3 \n"
          ]
        }
      ],
      "source": [
        "for i in range(10):\n",
        "  for j in range(10):\n",
        "    x=rd.randint(0,9)               \n",
        "    print (x,end=\" \")\n",
        "\n",
        "  print(\"\")"
      ]
    },
    {
      "cell_type": "markdown",
      "source": [
        "# 2. Printing \"@\" if the random number is odd\n"
      ],
      "metadata": {
        "id": "hpRh8VRH0WJZ"
      }
    },
    {
      "cell_type": "code",
      "source": [
        "for i in range(10):\n",
        "  for j in range(10):\n",
        "    num=rd.randint(0,9)\n",
        "    if num%2 == 1:\n",
        "      print(\"@\", end=\" \")#prints @ in place of odd number \n",
        "    else:\n",
        "      print (num,end=\" \")#prints even number\n",
        "\n",
        "  print(\"\")"
      ],
      "metadata": {
        "colab": {
          "base_uri": "https://localhost:8080/"
        },
        "id": "P_qywbn3z49C",
        "outputId": "e9385ccd-ce42-44f1-c382-ba69388aa793"
      },
      "execution_count": 3,
      "outputs": [
        {
          "output_type": "stream",
          "name": "stdout",
          "text": [
            "8 4 2 2 @ @ @ 2 2 @ \n",
            "2 @ 0 @ 4 4 @ 8 0 @ \n",
            "4 8 2 @ 0 @ 4 @ @ @ \n",
            "@ 8 2 2 4 @ 4 8 @ 2 \n",
            "@ 8 2 @ 4 @ @ 8 @ @ \n",
            "2 @ 4 @ 6 4 @ @ @ 8 \n",
            "2 6 @ @ 4 @ 0 @ @ 0 \n",
            "@ @ 8 @ 0 8 @ @ @ 0 \n",
            "2 @ 6 @ 8 @ 0 6 @ 4 \n",
            "6 @ @ 8 0 8 @ @ 2 6 \n"
          ]
        }
      ]
    },
    {
      "cell_type": "markdown",
      "source": [
        "# 3.Calculating and Printing the total of each row "
      ],
      "metadata": {
        "id": "nQxcVGr86oy_"
      }
    },
    {
      "cell_type": "code",
      "source": [
        "for i in range(10):\n",
        "  total=0\n",
        "  for j in range(10):\n",
        "    num=rd.randint(0,9)  \n",
        "    print (num,end=\" \")\n",
        "    total += num  \n",
        "    \n",
        "  print(\"*\",total)"
      ],
      "metadata": {
        "colab": {
          "base_uri": "https://localhost:8080/"
        },
        "id": "kpwFkec87wMm",
        "outputId": "a86d08cb-ee6f-4c74-d30d-0397c9ee4425"
      },
      "execution_count": 4,
      "outputs": [
        {
          "output_type": "stream",
          "name": "stdout",
          "text": [
            "7 8 1 3 7 4 2 9 6 1 * 48\n",
            "2 0 6 4 0 6 0 8 0 4 * 30\n",
            "2 2 2 4 6 5 0 4 1 3 * 29\n",
            "8 3 0 0 6 7 2 3 2 3 * 34\n",
            "6 0 2 9 2 1 0 4 0 6 * 30\n",
            "8 6 7 6 8 2 1 3 4 9 * 54\n",
            "5 5 4 7 8 9 2 7 4 2 * 53\n",
            "6 3 5 9 5 6 9 5 5 4 * 57\n",
            "3 1 9 7 7 1 1 0 7 0 * 36\n",
            "6 7 3 8 2 2 1 5 8 4 * 46\n"
          ]
        }
      ]
    },
    {
      "cell_type": "markdown",
      "source": [
        "# 4.Surround the matrix with asterisks (*) "
      ],
      "metadata": {
        "id": "ZUw4X44EInuh"
      }
    },
    {
      "cell_type": "code",
      "source": [
        "n=10\n",
        "\n",
        "for j in range(n+2):\n",
        "  print(\"*\", end=\" \")\n",
        "print()\n",
        "\n",
        "for i in range(10):\n",
        "  print(\"*\",end=\" \")\n",
        "  for j in range(10):\n",
        "    num=rd.randint(0,9) \n",
        "    print (num,end= \" \" )\n",
        "  \n",
        "  print(\"*\")\n",
        "\n",
        "for j in range(n+2):\n",
        "  print(\"*\", end=\" \")"
      ],
      "metadata": {
        "colab": {
          "base_uri": "https://localhost:8080/"
        },
        "id": "nPoRaHuRIw5f",
        "outputId": "875dac01-a653-41bb-c647-1b0dd104d423"
      },
      "execution_count": 5,
      "outputs": [
        {
          "output_type": "stream",
          "name": "stdout",
          "text": [
            "* * * * * * * * * * * * \n",
            "* 6 9 4 7 8 2 1 7 7 4 *\n",
            "* 0 9 6 1 2 1 0 5 3 0 *\n",
            "* 5 4 2 2 9 3 0 6 8 9 *\n",
            "* 2 7 6 4 2 0 7 5 9 2 *\n",
            "* 6 7 8 0 5 5 9 7 3 6 *\n",
            "* 1 3 3 3 1 4 0 5 4 7 *\n",
            "* 1 0 4 2 6 2 7 9 4 8 *\n",
            "* 7 4 9 3 5 5 1 6 0 0 *\n",
            "* 4 9 4 2 1 4 9 7 7 9 *\n",
            "* 8 6 9 4 5 6 2 6 2 8 *\n",
            "* * * * * * * * * * * * "
          ]
        }
      ]
    },
    {
      "cell_type": "markdown",
      "source": [
        "# 5.Calculating and Printing the total of each row and column."
      ],
      "metadata": {
        "id": "Hlkbp5IDLgsd"
      }
    },
    {
      "cell_type": "code",
      "source": [
        "import numpy as np\n",
        "rdnum = np.random.randint(0,9,size = (12,12))\n",
        "\n",
        "l= [0,0,0,0,0,0,0,0,0,0]\n",
        "for i in range(10):\n",
        "  k = 0\n",
        "  for j in range(10):\n",
        "    print(rdnum[i][j], end =\"  \")\n",
        "    k+= rdnum[i][j] \n",
        "    l[i] += rdnum[j][i]\n",
        "  print(\"*\", k)\n",
        "print(10 * \"*  \", \"\\n\", end = \"\")\n",
        "print(*l, end = \" \")"
      ],
      "metadata": {
        "colab": {
          "base_uri": "https://localhost:8080/"
        },
        "id": "THngOdp_LwLp",
        "outputId": "c256a4bb-7034-42c8-ba44-e2a1c5e6086d"
      },
      "execution_count": 6,
      "outputs": [
        {
          "output_type": "stream",
          "name": "stdout",
          "text": [
            "7  1  3  6  3  6  1  4  8  0  * 39\n",
            "0  4  5  1  5  2  1  0  4  3  * 25\n",
            "0  7  6  1  6  6  0  6  0  8  * 40\n",
            "5  0  0  6  7  4  7  7  5  4  * 45\n",
            "2  5  0  2  0  4  2  1  5  3  * 24\n",
            "1  6  2  8  5  0  5  1  5  7  * 40\n",
            "5  7  5  5  4  3  4  5  0  6  * 44\n",
            "2  4  3  6  0  7  0  1  4  8  * 35\n",
            "5  4  3  8  2  8  5  1  8  0  * 44\n",
            "6  5  3  6  8  4  8  1  6  1  * 48\n",
            "*  *  *  *  *  *  *  *  *  *   \n",
            "33 43 30 49 40 44 33 27 45 40 "
          ]
        }
      ]
    }
  ]
}