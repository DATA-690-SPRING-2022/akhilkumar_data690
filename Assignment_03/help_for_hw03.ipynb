{
  "nbformat": 4,
  "nbformat_minor": 0,
  "metadata": {
    "colab": {
      "name": "help_for_hw03.ipynb",
      "provenance": [],
      "authorship_tag": "ABX9TyPeRsBCy0s5KZvoljX7WF3U",
      "include_colab_link": true
    },
    "kernelspec": {
      "name": "python3",
      "display_name": "Python 3"
    },
    "language_info": {
      "name": "python"
    }
  },
  "cells": [
    {
      "cell_type": "markdown",
      "metadata": {
        "id": "view-in-github",
        "colab_type": "text"
      },
      "source": [
        "<a href=\"https://colab.research.google.com/github/akhilkumar-kondamidi/akhilkumar_data690/blob/main/Assignment_03/help_for_hw03.ipynb\" target=\"_parent\"><img src=\"https://colab.research.google.com/assets/colab-badge.svg\" alt=\"Open In Colab\"/></a>"
      ]
    },
    {
      "cell_type": "markdown",
      "source": [
        ""
      ],
      "metadata": {
        "id": "MTTfIGCZxBgw"
      }
    },
    {
      "cell_type": "code",
      "execution_count": 1,
      "metadata": {
        "colab": {
          "base_uri": "https://localhost:8080/"
        },
        "id": "tVMVclr6w7LQ",
        "outputId": "2bc8fc74-c23e-4fe3-baca-a8052af9f175"
      },
      "outputs": [
        {
          "output_type": "stream",
          "name": "stdout",
          "text": [
            "[2, 5, 15, 'jay', 'wang']\n"
          ]
        }
      ],
      "source": [
        "x=[2,5,15,\"jay\",\"wang\"]\n",
        "print(x)"
      ]
    },
    {
      "cell_type": "code",
      "source": [
        "for a in x:\n",
        "    print(a)"
      ],
      "metadata": {
        "colab": {
          "base_uri": "https://localhost:8080/"
        },
        "id": "hHosxDyGxV_4",
        "outputId": "f9d29366-5048-47a6-e640-82fc32f1e848"
      },
      "execution_count": 2,
      "outputs": [
        {
          "output_type": "stream",
          "name": "stdout",
          "text": [
            "2\n",
            "5\n",
            "15\n",
            "jay\n",
            "wang\n"
          ]
        }
      ]
    },
    {
      "cell_type": "code",
      "source": [
        "5 in x"
      ],
      "metadata": {
        "colab": {
          "base_uri": "https://localhost:8080/"
        },
        "id": "q8JI6I-_xkcJ",
        "outputId": "55ae4cb4-00fc-4427-9a27-83021de3728b"
      },
      "execution_count": 3,
      "outputs": [
        {
          "output_type": "execute_result",
          "data": {
            "text/plain": [
              "True"
            ]
          },
          "metadata": {},
          "execution_count": 3
        }
      ]
    },
    {
      "cell_type": "code",
      "source": [
        "if 5 in x:\n",
        "    print(\"5 is member of a list x.\")\n",
        "else:\n",
        "    print(\"5 is not a member\")"
      ],
      "metadata": {
        "colab": {
          "base_uri": "https://localhost:8080/"
        },
        "id": "6lQ2UEJyx8or",
        "outputId": "d0758a2c-6fda-4bd2-8d40-b2734b177641"
      },
      "execution_count": 4,
      "outputs": [
        {
          "output_type": "stream",
          "name": "stdout",
          "text": [
            "5 is member of a list x.\n"
          ]
        }
      ]
    },
    {
      "cell_type": "code",
      "source": [
        "y=[5,1,5,6,2,7,8,6,4,2]\n",
        "print(y)"
      ],
      "metadata": {
        "colab": {
          "base_uri": "https://localhost:8080/"
        },
        "id": "n0UEquDDy-Jv",
        "outputId": "b228db76-ca24-42ea-c436-3d79789fed5d"
      },
      "execution_count": 5,
      "outputs": [
        {
          "output_type": "stream",
          "name": "stdout",
          "text": [
            "[5, 1, 5, 6, 2, 7, 8, 6, 4, 2]\n"
          ]
        }
      ]
    },
    {
      "cell_type": "code",
      "source": [
        "for b in y:\n",
        "    print(b)"
      ],
      "metadata": {
        "colab": {
          "base_uri": "https://localhost:8080/"
        },
        "id": "-I9ZuuJFzJbK",
        "outputId": "d755451e-6ca7-4511-a250-086c02cf0c8f"
      },
      "execution_count": 6,
      "outputs": [
        {
          "output_type": "stream",
          "name": "stdout",
          "text": [
            "5\n",
            "1\n",
            "5\n",
            "6\n",
            "2\n",
            "7\n",
            "8\n",
            "6\n",
            "4\n",
            "2\n"
          ]
        }
      ]
    },
    {
      "cell_type": "code",
      "source": [
        "for b in y:\n",
        "    print(b,end=\"  \")"
      ],
      "metadata": {
        "colab": {
          "base_uri": "https://localhost:8080/"
        },
        "id": "RDT-kZeOzP3y",
        "outputId": "8b879420-3e00-4cb7-b071-09e4e3905f2f"
      },
      "execution_count": 10,
      "outputs": [
        {
          "output_type": "stream",
          "name": "stdout",
          "text": [
            "5  1  5  6  2  7  8  6  4  2  "
          ]
        }
      ]
    },
    {
      "cell_type": "code",
      "source": [
        "import random"
      ],
      "metadata": {
        "id": "iyUJVZGhzzbF"
      },
      "execution_count": 11,
      "outputs": []
    },
    {
      "cell_type": "code",
      "source": [
        "random.randint(2,10)"
      ],
      "metadata": {
        "colab": {
          "base_uri": "https://localhost:8080/"
        },
        "id": "a6O4qtuMz5qi",
        "outputId": "43170c9d-21cd-4e6c-db50-4e1aee96bb68"
      },
      "execution_count": 13,
      "outputs": [
        {
          "output_type": "execute_result",
          "data": {
            "text/plain": [
              "10"
            ]
          },
          "metadata": {},
          "execution_count": 13
        }
      ]
    },
    {
      "cell_type": "code",
      "source": [
        "for i in range(0,10):\n",
        "    print(random.randint(0,9),end=\" \")"
      ],
      "metadata": {
        "colab": {
          "base_uri": "https://localhost:8080/"
        },
        "id": "JtQeqbzG0fbi",
        "outputId": "935f25ee-be24-43b4-804d-c0f227a49baa"
      },
      "execution_count": 18,
      "outputs": [
        {
          "output_type": "stream",
          "name": "stdout",
          "text": [
            "9 1 6 6 9 8 6 5 6 6 "
          ]
        }
      ]
    },
    {
      "cell_type": "code",
      "source": [
        "for j in range(10):\n",
        "    for i in range(10):\n",
        "        print(random.randint(0,9),end=\" \")\n",
        "    print(\"\\n\",end=\"\")\n"
      ],
      "metadata": {
        "colab": {
          "base_uri": "https://localhost:8080/"
        },
        "id": "rxtgzwbn1__e",
        "outputId": "6e45fa47-f944-4278-8108-565bd48f4622"
      },
      "execution_count": 28,
      "outputs": [
        {
          "output_type": "stream",
          "name": "stdout",
          "text": [
            "3 4 1 3 0 8 5 2 5 9 \n",
            "6 7 6 1 7 0 9 0 0 3 \n",
            "6 5 9 2 9 9 1 2 4 1 \n",
            "5 1 3 3 4 1 7 2 6 2 \n",
            "7 6 0 7 0 3 3 5 0 0 \n",
            "3 7 3 1 9 6 6 1 7 5 \n",
            "5 5 5 5 1 3 6 5 4 3 \n",
            "3 2 0 9 0 0 7 7 9 8 \n",
            "0 6 9 0 3 6 6 7 5 1 \n",
            "1 5 1 0 7 6 7 3 5 1 \n"
          ]
        }
      ]
    }
  ]
}